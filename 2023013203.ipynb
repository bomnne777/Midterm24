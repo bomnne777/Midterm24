{
  "nbformat": 4,
  "nbformat_minor": 0,
  "metadata": {
    "colab": {
      "provenance": [],
      "include_colab_link": true
    },
    "kernelspec": {
      "name": "python3",
      "display_name": "Python 3"
    },
    "language_info": {
      "name": "python"
    }
  },
  "cells": [
    {
      "cell_type": "markdown",
      "metadata": {
        "id": "view-in-github",
        "colab_type": "text"
      },
      "source": [
        "<a href=\"https://colab.research.google.com/github/bomnne777/Midterm24/blob/main/2023013203.ipynb\" target=\"_parent\"><img src=\"https://colab.research.google.com/assets/colab-badge.svg\" alt=\"Open In Colab\"/></a>"
      ]
    },
    {
      "cell_type": "markdown",
      "source": [
        "#🌀Midterm 2024: Bo-Min Go"
      ],
      "metadata": {
        "id": "hPNfsRDZZppk"
      }
    },
    {
      "cell_type": "markdown",
      "source": [
        "##Name Question"
      ],
      "metadata": {
        "id": "QES8TQd-fh4_"
      }
    },
    {
      "cell_type": "code",
      "source": [
        "x = \"My name is\"\n",
        "y = \"Bomin Go.\"\n",
        "print(x,y)"
      ],
      "metadata": {
        "id": "Eo4DyL7AdZGJ",
        "outputId": "d349ec19-1e0b-426b-d992-1e121560a4d4",
        "colab": {
          "base_uri": "https://localhost:8080/",
          "height": 0
        }
      },
      "execution_count": 15,
      "outputs": [
        {
          "output_type": "stream",
          "name": "stdout",
          "text": [
            "My name is Bomin Go.\n"
          ]
        }
      ]
    },
    {
      "cell_type": "markdown",
      "source": [
        "##Index Question"
      ],
      "metadata": {
        "id": "sOholk-CfdHn"
      }
    },
    {
      "cell_type": "code",
      "source": [
        "# Dropdown\n",
        "\n",
        "cardinal_number = \"4\" #@param = [\"1\",\"2\",\"3\",\"4\"]\n",
        "\n",
        "# Add one line of code below\n",
        "cardinal_number = int(cardinal_number)\n",
        "\n",
        "# Ordinal expression as a list\n",
        "\n",
        "words = [\"First\", \"First\", \"Second\",\"Third\",\"Fourth\"]\n",
        "\n",
        "print(\"The ordinal expression:\", words[cardinal_number])"
      ],
      "metadata": {
        "cellView": "form",
        "id": "Hq6yevQufSBB",
        "outputId": "67cef6e6-f6db-4fad-d9f6-4b2f0e539812",
        "colab": {
          "base_uri": "https://localhost:8080/",
          "height": 0
        }
      },
      "execution_count": 29,
      "outputs": [
        {
          "output_type": "stream",
          "name": "stdout",
          "text": [
            "The ordinal expression: Fourth\n"
          ]
        }
      ]
    },
    {
      "cell_type": "markdown",
      "source": [
        "##Variable Question"
      ],
      "metadata": {
        "id": "uq9q8tSwhKmY"
      }
    },
    {
      "cell_type": "code",
      "source": [
        "#'Mary, 1998, Ohio; and John, 1999, Boston.'\n",
        "x = input() #name\n",
        "y = input() #born_in\n",
        "z = input() #hometown\n",
        "print()"
      ],
      "metadata": {
        "id": "egUWcrQChYNn"
      },
      "execution_count": null,
      "outputs": []
    },
    {
      "cell_type": "markdown",
      "source": [
        "##Dictionary Question"
      ],
      "metadata": {
        "id": "VM7piG7TlTLH"
      }
    },
    {
      "cell_type": "code",
      "source": [
        "grades = {'Bob':80, 'student1':75, 'student2':90}\n",
        "del grades[\"student1\"]\n",
        "del grades[\"student2\"]\n",
        "print(grades)"
      ],
      "metadata": {
        "id": "mosLCbl-lYdO",
        "outputId": "db09b61f-f9f6-47e1-9d35-ff7134e85bf3",
        "colab": {
          "base_uri": "https://localhost:8080/",
          "height": 0
        }
      },
      "execution_count": 67,
      "outputs": [
        {
          "output_type": "stream",
          "name": "stdout",
          "text": [
            "{'Bob': 80}\n"
          ]
        }
      ]
    },
    {
      "cell_type": "markdown",
      "source": [
        "##Function Question"
      ],
      "metadata": {
        "id": "0PJNZFe0ksgv"
      }
    },
    {
      "cell_type": "code",
      "source": [
        "def divide_numbers(num1, num2):\n",
        "    result = num1 / num2\n",
        "    return result"
      ],
      "metadata": {
        "id": "xTW3iuUjk6Re"
      },
      "execution_count": 48,
      "outputs": []
    },
    {
      "cell_type": "code",
      "source": [
        "divide_numbers(20, 4)"
      ],
      "metadata": {
        "id": "hU-MiAyuk_0e",
        "outputId": "e1e6ccbb-d09e-4875-e3b2-c613f25d6e33",
        "colab": {
          "base_uri": "https://localhost:8080/",
          "height": 0
        }
      },
      "execution_count": 49,
      "outputs": [
        {
          "output_type": "execute_result",
          "data": {
            "text/plain": [
              "5.0"
            ]
          },
          "metadata": {},
          "execution_count": 49
        }
      ]
    }
  ]
}